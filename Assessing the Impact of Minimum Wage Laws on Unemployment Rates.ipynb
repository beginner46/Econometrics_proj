{
 "cells": [
  {
   "cell_type": "markdown",
   "id": "cbd25eb7",
   "metadata": {},
   "source": [
    "### Installing the EconML library"
   ]
  },
  {
   "cell_type": "code",
   "execution_count": 1,
   "id": "7426a62b",
   "metadata": {},
   "outputs": [],
   "source": [
    "# pip install econml"
   ]
  },
  {
   "cell_type": "markdown",
   "id": "9cb32039",
   "metadata": {},
   "source": [
    "## Importing Libraries"
   ]
  },
  {
   "cell_type": "code",
   "execution_count": 2,
   "id": "c1de8db2",
   "metadata": {},
   "outputs": [],
   "source": [
    "import pandas as pd\n",
    "import numpy as np\n",
    "from sklearn.ensemble import RandomForestRegressor, RandomForestClassifier\n",
    "from sklearn.model_selection import train_test_split\n",
    "from sklearn.metrics import mean_squared_error\n",
    "from sklearn.linear_model import LinearRegression\n",
    "from econml.sklearn_extensions.linear_model import StatsModelsLinearRegression\n",
    "from sklearn.svm import SVR\n",
    "from sklearn.neural_network import MLPRegressor\n",
    "import torch\n",
    "import torch.nn as nn\n",
    "import matplotlib.pyplot as plt\n",
    "import econml\n",
    "from econml.orf import DMLOrthoForest\n",
    "from econml.dml import DML"
   ]
  },
  {
   "cell_type": "markdown",
   "id": "49a79cb8",
   "metadata": {},
   "source": [
    "### Working on dataset and feature engineering"
   ]
  },
  {
   "cell_type": "code",
   "execution_count": 3,
   "id": "364b05ba",
   "metadata": {},
   "outputs": [],
   "source": [
    "unemployment_df = pd.read_csv('unemployement.csv').apply(lambda x: x.fillna(x.mode().iloc[0]) if x.dtype == 'object' else x.fillna(x.mean()))\n",
    "minimum_wage_df = pd.read_csv('Mw.csv').apply(lambda x: x.fillna(x.mode().iloc[0]) if x.dtype == 'object' else x.fillna(x.mean()))\n",
    "\n",
    "minimum_wage_df = minimum_wage_df.apply(\n",
    "    lambda x: x[np.isfinite(x)] if x.dtype!= 'object' else x\n",
    ")\n",
    "\n",
    "unemployment_df = unemployment_df.apply(\n",
    "    lambda x: x[np.isfinite(x)] if x.dtype!= 'object' else x\n",
    ")"
   ]
  },
  {
   "cell_type": "code",
   "execution_count": 4,
   "id": "d43a7797",
   "metadata": {},
   "outputs": [
    {
     "data": {
      "text/plain": [
       "Index(['FIPS Code', 'State/Area', 'Year', 'Month',\n",
       "       'Total Civilian Non-Institutional Population in State/Area',\n",
       "       'Total Civilian Labor Force in State/Area',\n",
       "       'Percent (%) of State/Area's Population',\n",
       "       'Total Employment in State/Area',\n",
       "       'Percent (%) of Labor Force Employed in State/Area',\n",
       "       'Total Unemployment in State/Area',\n",
       "       'Percent (%) of Labor Force Unemployed in State/Area'],\n",
       "      dtype='object')"
      ]
     },
     "execution_count": 4,
     "metadata": {},
     "output_type": "execute_result"
    }
   ],
   "source": [
    "unemployment_df.columns"
   ]
  },
  {
   "cell_type": "code",
   "execution_count": 5,
   "id": "7bd7e45b",
   "metadata": {},
   "outputs": [],
   "source": [
    "unemployment_df.rename(columns={'State/Area': 'State'}, inplace=True)"
   ]
  },
  {
   "cell_type": "code",
   "execution_count": 6,
   "id": "302941d5",
   "metadata": {},
   "outputs": [
    {
     "data": {
      "text/plain": [
       "Index(['Year', 'State', 'State.Minimum.Wage',\n",
       "       'State.Minimum.Wage.2020.Dollars', 'Federal.Minimum.Wage',\n",
       "       'Federal.Minimum.Wage.2020.Dollars', 'Effective.Minimum.Wage',\n",
       "       'Effective.Minimum.Wage.2020.Dollars', 'CPI.Average',\n",
       "       'Department.Of.Labor.Uncleaned.Data',\n",
       "       'Department.Of.Labor.Cleaned.Low.Value',\n",
       "       'Department.Of.Labor.Cleaned.Low.Value.2020.Dollars',\n",
       "       'Department.Of.Labor.Cleaned.High.Value',\n",
       "       'Department.Of.Labor.Cleaned.High.Value.2020.Dollars', 'Footnote'],\n",
       "      dtype='object')"
      ]
     },
     "execution_count": 6,
     "metadata": {},
     "output_type": "execute_result"
    }
   ],
   "source": [
    "minimum_wage_df.columns"
   ]
  },
  {
   "cell_type": "code",
   "execution_count": 7,
   "id": "62b92c31",
   "metadata": {},
   "outputs": [
    {
     "data": {
      "text/plain": [
       "Int64Index([    0,     1,     2,     3,     4,     5,     6,     7,     8,\n",
       "                9,\n",
       "            ...\n",
       "            29882, 29883, 29884, 29885, 29886, 29887, 29888, 29889, 29890,\n",
       "            29891],\n",
       "           dtype='int64', length=29892)"
      ]
     },
     "execution_count": 7,
     "metadata": {},
     "output_type": "execute_result"
    }
   ],
   "source": [
    "unemployment_df.index"
   ]
  },
  {
   "cell_type": "code",
   "execution_count": 8,
   "id": "34d1ecbe",
   "metadata": {},
   "outputs": [
    {
     "data": {
      "text/plain": [
       "Int64Index([   0,    1,    2,    3,    4,    5,    6,    7,    8,    9,\n",
       "            ...\n",
       "            2420, 2421, 2422, 2423, 2424, 2425, 2426, 2427, 2428, 2429],\n",
       "           dtype='int64', length=2430)"
      ]
     },
     "execution_count": 8,
     "metadata": {},
     "output_type": "execute_result"
    }
   ],
   "source": [
    "minimum_wage_df.index"
   ]
  },
  {
   "cell_type": "code",
   "execution_count": 9,
   "id": "35bf9ad0",
   "metadata": {},
   "outputs": [
    {
     "data": {
      "text/plain": [
       "(29892, 11)"
      ]
     },
     "execution_count": 9,
     "metadata": {},
     "output_type": "execute_result"
    }
   ],
   "source": [
    "unemployment_df.shape"
   ]
  },
  {
   "cell_type": "code",
   "execution_count": 10,
   "id": "9f0ef079",
   "metadata": {},
   "outputs": [
    {
     "data": {
      "text/plain": [
       "(2430, 15)"
      ]
     },
     "execution_count": 10,
     "metadata": {},
     "output_type": "execute_result"
    }
   ],
   "source": [
    "minimum_wage_df.shape"
   ]
  },
  {
   "cell_type": "code",
   "execution_count": 11,
   "id": "dc636431",
   "metadata": {
    "scrolled": true
   },
   "outputs": [
    {
     "data": {
      "text/html": [
       "<div>\n",
       "<style scoped>\n",
       "    .dataframe tbody tr th:only-of-type {\n",
       "        vertical-align: middle;\n",
       "    }\n",
       "\n",
       "    .dataframe tbody tr th {\n",
       "        vertical-align: top;\n",
       "    }\n",
       "\n",
       "    .dataframe thead th {\n",
       "        text-align: right;\n",
       "    }\n",
       "</style>\n",
       "<table border=\"1\" class=\"dataframe\">\n",
       "  <thead>\n",
       "    <tr style=\"text-align: right;\">\n",
       "      <th></th>\n",
       "      <th>Year</th>\n",
       "      <th>State</th>\n",
       "      <th>State.Minimum.Wage</th>\n",
       "      <th>State.Minimum.Wage.2020.Dollars</th>\n",
       "      <th>Federal.Minimum.Wage</th>\n",
       "      <th>Federal.Minimum.Wage.2020.Dollars</th>\n",
       "      <th>Effective.Minimum.Wage</th>\n",
       "      <th>Effective.Minimum.Wage.2020.Dollars</th>\n",
       "      <th>CPI.Average</th>\n",
       "      <th>Department.Of.Labor.Uncleaned.Data</th>\n",
       "      <th>...</th>\n",
       "      <th>Month</th>\n",
       "      <th>Total Civilian Non-Institutional Population in State/Area</th>\n",
       "      <th>Total Civilian Labor Force in State/Area</th>\n",
       "      <th>Percent (%) of State/Area's Population</th>\n",
       "      <th>Total Employment in State/Area</th>\n",
       "      <th>Percent (%) of Labor Force Employed in State/Area</th>\n",
       "      <th>Total Unemployment in State/Area</th>\n",
       "      <th>Percent (%) of Labor Force Unemployed in State/Area</th>\n",
       "      <th>Minimum_Wage_Change</th>\n",
       "      <th>Minimum_Wage_Treatment</th>\n",
       "    </tr>\n",
       "  </thead>\n",
       "  <tbody>\n",
       "    <tr>\n",
       "      <th>0</th>\n",
       "      <td>1976</td>\n",
       "      <td>Alabama</td>\n",
       "      <td>0.0</td>\n",
       "      <td>0.0</td>\n",
       "      <td>2.2</td>\n",
       "      <td>10.0</td>\n",
       "      <td>2.2</td>\n",
       "      <td>10.0</td>\n",
       "      <td>56.9</td>\n",
       "      <td>...</td>\n",
       "      <td>...</td>\n",
       "      <td>1</td>\n",
       "      <td>2,605,000</td>\n",
       "      <td>1,484,555</td>\n",
       "      <td>57.0</td>\n",
       "      <td>1,386,023</td>\n",
       "      <td>53.2</td>\n",
       "      <td>98,532</td>\n",
       "      <td>6.6</td>\n",
       "      <td>NaN</td>\n",
       "      <td>0</td>\n",
       "    </tr>\n",
       "    <tr>\n",
       "      <th>1</th>\n",
       "      <td>1976</td>\n",
       "      <td>Alabama</td>\n",
       "      <td>0.0</td>\n",
       "      <td>0.0</td>\n",
       "      <td>2.2</td>\n",
       "      <td>10.0</td>\n",
       "      <td>2.2</td>\n",
       "      <td>10.0</td>\n",
       "      <td>56.9</td>\n",
       "      <td>...</td>\n",
       "      <td>...</td>\n",
       "      <td>2</td>\n",
       "      <td>2,610,000</td>\n",
       "      <td>1,483,950</td>\n",
       "      <td>56.9</td>\n",
       "      <td>1,385,675</td>\n",
       "      <td>53.1</td>\n",
       "      <td>98,275</td>\n",
       "      <td>6.6</td>\n",
       "      <td>NaN</td>\n",
       "      <td>0</td>\n",
       "    </tr>\n",
       "    <tr>\n",
       "      <th>2</th>\n",
       "      <td>1976</td>\n",
       "      <td>Alabama</td>\n",
       "      <td>0.0</td>\n",
       "      <td>0.0</td>\n",
       "      <td>2.2</td>\n",
       "      <td>10.0</td>\n",
       "      <td>2.2</td>\n",
       "      <td>10.0</td>\n",
       "      <td>56.9</td>\n",
       "      <td>...</td>\n",
       "      <td>...</td>\n",
       "      <td>3</td>\n",
       "      <td>2,615,000</td>\n",
       "      <td>1,484,241</td>\n",
       "      <td>56.8</td>\n",
       "      <td>1,386,793</td>\n",
       "      <td>53.0</td>\n",
       "      <td>97,448</td>\n",
       "      <td>6.6</td>\n",
       "      <td>NaN</td>\n",
       "      <td>0</td>\n",
       "    </tr>\n",
       "    <tr>\n",
       "      <th>3</th>\n",
       "      <td>1976</td>\n",
       "      <td>Alabama</td>\n",
       "      <td>0.0</td>\n",
       "      <td>0.0</td>\n",
       "      <td>2.2</td>\n",
       "      <td>10.0</td>\n",
       "      <td>2.2</td>\n",
       "      <td>10.0</td>\n",
       "      <td>56.9</td>\n",
       "      <td>...</td>\n",
       "      <td>...</td>\n",
       "      <td>4</td>\n",
       "      <td>2,620,000</td>\n",
       "      <td>1,487,233</td>\n",
       "      <td>56.8</td>\n",
       "      <td>1,390,787</td>\n",
       "      <td>53.1</td>\n",
       "      <td>96,446</td>\n",
       "      <td>6.5</td>\n",
       "      <td>NaN</td>\n",
       "      <td>0</td>\n",
       "    </tr>\n",
       "    <tr>\n",
       "      <th>4</th>\n",
       "      <td>1976</td>\n",
       "      <td>Alabama</td>\n",
       "      <td>0.0</td>\n",
       "      <td>0.0</td>\n",
       "      <td>2.2</td>\n",
       "      <td>10.0</td>\n",
       "      <td>2.2</td>\n",
       "      <td>10.0</td>\n",
       "      <td>56.9</td>\n",
       "      <td>...</td>\n",
       "      <td>...</td>\n",
       "      <td>5</td>\n",
       "      <td>2,626,000</td>\n",
       "      <td>1,491,392</td>\n",
       "      <td>56.8</td>\n",
       "      <td>1,395,320</td>\n",
       "      <td>53.1</td>\n",
       "      <td>96,072</td>\n",
       "      <td>6.4</td>\n",
       "      <td>NaN</td>\n",
       "      <td>0</td>\n",
       "    </tr>\n",
       "  </tbody>\n",
       "</table>\n",
       "<p>5 rows × 26 columns</p>\n",
       "</div>"
      ],
      "text/plain": [
       "   Year    State  State.Minimum.Wage  State.Minimum.Wage.2020.Dollars  \\\n",
       "0  1976  Alabama                 0.0                              0.0   \n",
       "1  1976  Alabama                 0.0                              0.0   \n",
       "2  1976  Alabama                 0.0                              0.0   \n",
       "3  1976  Alabama                 0.0                              0.0   \n",
       "4  1976  Alabama                 0.0                              0.0   \n",
       "\n",
       "   Federal.Minimum.Wage  Federal.Minimum.Wage.2020.Dollars  \\\n",
       "0                   2.2                               10.0   \n",
       "1                   2.2                               10.0   \n",
       "2                   2.2                               10.0   \n",
       "3                   2.2                               10.0   \n",
       "4                   2.2                               10.0   \n",
       "\n",
       "   Effective.Minimum.Wage  Effective.Minimum.Wage.2020.Dollars  CPI.Average  \\\n",
       "0                     2.2                                 10.0         56.9   \n",
       "1                     2.2                                 10.0         56.9   \n",
       "2                     2.2                                 10.0         56.9   \n",
       "3                     2.2                                 10.0         56.9   \n",
       "4                     2.2                                 10.0         56.9   \n",
       "\n",
       "  Department.Of.Labor.Uncleaned.Data  ...  Month  \\\n",
       "0                                ...  ...      1   \n",
       "1                                ...  ...      2   \n",
       "2                                ...  ...      3   \n",
       "3                                ...  ...      4   \n",
       "4                                ...  ...      5   \n",
       "\n",
       "   Total Civilian Non-Institutional Population in State/Area  \\\n",
       "0                                          2,605,000           \n",
       "1                                          2,610,000           \n",
       "2                                          2,615,000           \n",
       "3                                          2,620,000           \n",
       "4                                          2,626,000           \n",
       "\n",
       "   Total Civilian Labor Force in State/Area  \\\n",
       "0                                 1,484,555   \n",
       "1                                 1,483,950   \n",
       "2                                 1,484,241   \n",
       "3                                 1,487,233   \n",
       "4                                 1,491,392   \n",
       "\n",
       "   Percent (%) of State/Area's Population Total Employment in State/Area  \\\n",
       "0                                    57.0                      1,386,023   \n",
       "1                                    56.9                      1,385,675   \n",
       "2                                    56.8                      1,386,793   \n",
       "3                                    56.8                      1,390,787   \n",
       "4                                    56.8                      1,395,320   \n",
       "\n",
       "   Percent (%) of Labor Force Employed in State/Area  \\\n",
       "0                                               53.2   \n",
       "1                                               53.1   \n",
       "2                                               53.0   \n",
       "3                                               53.1   \n",
       "4                                               53.1   \n",
       "\n",
       "   Total Unemployment in State/Area  \\\n",
       "0                            98,532   \n",
       "1                            98,275   \n",
       "2                            97,448   \n",
       "3                            96,446   \n",
       "4                            96,072   \n",
       "\n",
       "  Percent (%) of Labor Force Unemployed in State/Area Minimum_Wage_Change  \\\n",
       "0                                                6.6                  NaN   \n",
       "1                                                6.6                  NaN   \n",
       "2                                                6.6                  NaN   \n",
       "3                                                6.5                  NaN   \n",
       "4                                                6.4                  NaN   \n",
       "\n",
       "   Minimum_Wage_Treatment  \n",
       "0                       0  \n",
       "1                       0  \n",
       "2                       0  \n",
       "3                       0  \n",
       "4                       0  \n",
       "\n",
       "[5 rows x 26 columns]"
      ]
     },
     "execution_count": 11,
     "metadata": {},
     "output_type": "execute_result"
    }
   ],
   "source": [
    "# Merge datasets on 'State' and 'Year'\n",
    "merged_df = pd.merge(minimum_wage_df, unemployment_df, on=['State', 'Year'], how='inner')\n",
    "merged_df = merged_df.apply(lambda x: x.fillna(x.mode().iloc[0]) if x.dtype == 'object' else x.fillna(x.mode().iloc[0] if x.isnull().any() else x.mean()))\n",
    "\n",
    "# Feature engineering\n",
    "merged_df['Minimum_Wage_Change'] = merged_df['State.Minimum.Wage'].pct_change()\n",
    "merged_df['Minimum_Wage_Treatment'] = np.where(merged_df['Minimum_Wage_Change'] > 0, 1, 0)  # 1 if minimum wage increased, 0 otherwise\n",
    "\n",
    "\n",
    "merged_df.head()"
   ]
  },
  {
   "cell_type": "code",
   "execution_count": 12,
   "id": "377009b2",
   "metadata": {},
   "outputs": [
    {
     "data": {
      "text/plain": [
       "(27540, 26)"
      ]
     },
     "execution_count": 12,
     "metadata": {},
     "output_type": "execute_result"
    }
   ],
   "source": [
    "merged_df.shape"
   ]
  },
  {
   "cell_type": "code",
   "execution_count": 13,
   "id": "a04a3658",
   "metadata": {},
   "outputs": [],
   "source": [
    "merged_df['Minimum_Wage_Change'] = merged_df['Minimum_Wage_Change'].fillna(merged_df['Minimum_Wage_Change'].mode().iloc[0])"
   ]
  },
  {
   "cell_type": "code",
   "execution_count": 14,
   "id": "3ad8a035",
   "metadata": {},
   "outputs": [
    {
     "data": {
      "text/plain": [
       "Year                                                         0\n",
       "State                                                        0\n",
       "State.Minimum.Wage                                           0\n",
       "State.Minimum.Wage.2020.Dollars                              0\n",
       "Federal.Minimum.Wage                                         0\n",
       "Federal.Minimum.Wage.2020.Dollars                            0\n",
       "Effective.Minimum.Wage                                       0\n",
       "Effective.Minimum.Wage.2020.Dollars                          0\n",
       "CPI.Average                                                  0\n",
       "Department.Of.Labor.Uncleaned.Data                           0\n",
       "Department.Of.Labor.Cleaned.Low.Value                        0\n",
       "Department.Of.Labor.Cleaned.Low.Value.2020.Dollars           0\n",
       "Department.Of.Labor.Cleaned.High.Value                       0\n",
       "Department.Of.Labor.Cleaned.High.Value.2020.Dollars          0\n",
       "Footnote                                                     0\n",
       "FIPS Code                                                    0\n",
       "Month                                                        0\n",
       "Total Civilian Non-Institutional Population in State/Area    0\n",
       "Total Civilian Labor Force in State/Area                     0\n",
       "Percent (%) of State/Area's Population                       0\n",
       "Total Employment in State/Area                               0\n",
       "Percent (%) of Labor Force Employed in State/Area            0\n",
       "Total Unemployment in State/Area                             0\n",
       "Percent (%) of Labor Force Unemployed in State/Area          0\n",
       "Minimum_Wage_Change                                          0\n",
       "Minimum_Wage_Treatment                                       0\n",
       "dtype: int64"
      ]
     },
     "execution_count": 14,
     "metadata": {},
     "output_type": "execute_result"
    }
   ],
   "source": [
    "merged_df.isnull().sum()"
   ]
  },
  {
   "cell_type": "code",
   "execution_count": 15,
   "id": "b19d883c",
   "metadata": {},
   "outputs": [
    {
     "data": {
      "text/plain": [
       "Index(['Year', 'State', 'State.Minimum.Wage',\n",
       "       'State.Minimum.Wage.2020.Dollars', 'Federal.Minimum.Wage',\n",
       "       'Federal.Minimum.Wage.2020.Dollars', 'Effective.Minimum.Wage',\n",
       "       'Effective.Minimum.Wage.2020.Dollars', 'CPI.Average',\n",
       "       'Department.Of.Labor.Uncleaned.Data',\n",
       "       'Department.Of.Labor.Cleaned.Low.Value',\n",
       "       'Department.Of.Labor.Cleaned.Low.Value.2020.Dollars',\n",
       "       'Department.Of.Labor.Cleaned.High.Value',\n",
       "       'Department.Of.Labor.Cleaned.High.Value.2020.Dollars', 'Footnote',\n",
       "       'FIPS Code', 'Month',\n",
       "       'Total Civilian Non-Institutional Population in State/Area',\n",
       "       'Total Civilian Labor Force in State/Area',\n",
       "       'Percent (%) of State/Area's Population',\n",
       "       'Total Employment in State/Area',\n",
       "       'Percent (%) of Labor Force Employed in State/Area',\n",
       "       'Total Unemployment in State/Area',\n",
       "       'Percent (%) of Labor Force Unemployed in State/Area',\n",
       "       'Minimum_Wage_Change', 'Minimum_Wage_Treatment'],\n",
       "      dtype='object')"
      ]
     },
     "execution_count": 15,
     "metadata": {},
     "output_type": "execute_result"
    }
   ],
   "source": [
    "merged_df.columns"
   ]
  },
  {
   "cell_type": "code",
   "execution_count": 16,
   "id": "9e2931e5",
   "metadata": {},
   "outputs": [
    {
     "name": "stdout",
     "output_type": "stream",
     "text": [
      "y_train shape: (22032,)\n",
      "T_train shape: (22032,)\n",
      "X_train shape: (22032, 2)\n"
     ]
    }
   ],
   "source": [
    "# Select relevant features and target\n",
    "X = merged_df[['Minimum_Wage_Change', 'CPI.Average']]\n",
    "y = merged_df['Percent (%) of Labor Force Unemployed in State/Area']\n",
    "T = merged_df['Minimum_Wage_Treatment']  # Treatment variable (e.g., 1 if minimum wage increased, 0 otherwise)\n",
    "\n",
    "# Split data into training and testing sets\n",
    "X_train, X_test, y_train, y_test, T_train, T_test = train_test_split(X, y, T, test_size=0.2, random_state=42)\n",
    "\n",
    "print(\"y_train shape:\", y_train.shape)\n",
    "print(\"T_train shape:\", T_train.shape)\n",
    "print(\"X_train shape:\", X_train.shape)\n"
   ]
  },
  {
   "cell_type": "code",
   "execution_count": 17,
   "id": "a27ea672",
   "metadata": {},
   "outputs": [
    {
     "name": "stdout",
     "output_type": "stream",
     "text": [
      "y_train shape: (22032,)\n",
      "T_train shape: (22032,)\n",
      "X_train shape: (22032, 2)\n",
      "Minimum_Wage_Change    0\n",
      "CPI.Average            0\n",
      "dtype: int64\n",
      "Minimum_Wage_Change    0\n",
      "CPI.Average            0\n",
      "dtype: int64\n",
      "0\n",
      "0\n",
      "0\n",
      "0\n"
     ]
    }
   ],
   "source": [
    "X_train = X_train.replace([np.inf, -np.inf], 1e10)  # Replace with a large but finite value\n",
    "y_train = y_train.replace([np.inf, -np.inf], 1e10)\n",
    "X_test = X_test.replace([np.inf, -np.inf], 1e10)\n",
    "y_test = y_test.replace([np.inf, -np.inf], 1e10)\n",
    "T_train = T_train.replace([np.inf, -np.inf], 0)  # For binary treatment, replace with 0 or 1\n",
    "\n",
    "print(\"y_train shape:\", y_train.shape)\n",
    "print(\"T_train shape:\", T_train.shape)\n",
    "print(\"X_train shape:\", X_train.shape)\n",
    "\n",
    "print(X_train.isnull().sum())\n",
    "print(X_test.isnull().sum())\n",
    "print(y_train.isnull().sum())\n",
    "print(y_test.isnull().sum())\n",
    "print(T_train.isnull().sum())\n",
    "print(T_test.isnull().sum())"
   ]
  },
  {
   "cell_type": "markdown",
   "id": "65e73275",
   "metadata": {},
   "source": [
    "# Econml for Causal Inference"
   ]
  },
  {
   "cell_type": "markdown",
   "id": "e7a0664e",
   "metadata": {},
   "source": [
    "### 1. DoubleML for Average Treatment Effects"
   ]
  },
  {
   "cell_type": "code",
   "execution_count": 18,
   "id": "8d856865",
   "metadata": {},
   "outputs": [
    {
     "name": "stdout",
     "output_type": "stream",
     "text": [
      "DoubleML ATE: 2186117426.4330044\n",
      "DoubleML CATE: [2.18611743e+09]\n"
     ]
    }
   ],
   "source": [
    "double_ml = DML(\n",
    "    model_y=RandomForestRegressor(),\n",
    "    model_t=RandomForestClassifier(),\n",
    "    model_final=StatsModelsLinearRegression(fit_intercept=False),\n",
    "    discrete_treatment=True\n",
    ")\n",
    "double_ml.fit(y_train, T_train, X=X_train, W=None)  \n",
    "ate_double_ml = double_ml.ate(X = X_test)\n",
    "cate_double_ml = double_ml.const_marginal_ate(X = X_test)\n",
    "print(\"DoubleML ATE:\", ate_double_ml)\n",
    "print(\"DoubleML CATE:\", cate_double_ml)"
   ]
  },
  {
   "cell_type": "markdown",
   "id": "0eb7dbe8",
   "metadata": {},
   "source": [
    "### 2. OrthoForest for Heterogeneous Treatment Effects"
   ]
  },
  {
   "cell_type": "code",
   "execution_count": 19,
   "id": "e0d7bd66",
   "metadata": {},
   "outputs": [
    {
     "name": "stderr",
     "output_type": "stream",
     "text": [
      "[Parallel(n_jobs=-1)]: Using backend LokyBackend with 8 concurrent workers.\n",
      "[Parallel(n_jobs=-1)]: Done  16 tasks      | elapsed:   15.6s\n",
      "[Parallel(n_jobs=-1)]: Done 100 out of 100 | elapsed:  1.1min finished\n",
      "[Parallel(n_jobs=-1)]: Using backend LokyBackend with 8 concurrent workers.\n",
      "[Parallel(n_jobs=-1)]: Done  16 tasks      | elapsed:   11.0s\n",
      "[Parallel(n_jobs=-1)]: Done 100 out of 100 | elapsed:  1.1min finished\n",
      "[Parallel(n_jobs=-1)]: Using backend LokyBackend with 8 concurrent workers.\n",
      "[Parallel(n_jobs=-1)]: Done  16 tasks      | elapsed:    9.2s\n",
      "[Parallel(n_jobs=-1)]: Done 112 tasks      | elapsed:   28.5s\n",
      "[Parallel(n_jobs=-1)]: Done 272 tasks      | elapsed:  1.0min\n",
      "[Parallel(n_jobs=-1)]: Done 496 tasks      | elapsed:  1.8min\n",
      "[Parallel(n_jobs=-1)]: Done 784 tasks      | elapsed:  2.8min\n",
      "[Parallel(n_jobs=-1)]: Done 1136 tasks      | elapsed:  4.0min\n",
      "[Parallel(n_jobs=-1)]: Done 1552 tasks      | elapsed:  5.5min\n",
      "[Parallel(n_jobs=-1)]: Done 2032 tasks      | elapsed:  7.3min\n",
      "[Parallel(n_jobs=-1)]: Done 2576 tasks      | elapsed:  9.3min\n",
      "[Parallel(n_jobs=-1)]: Done 3184 tasks      | elapsed: 11.5min\n",
      "[Parallel(n_jobs=-1)]: Done 3856 tasks      | elapsed: 14.0min\n",
      "[Parallel(n_jobs=-1)]: Done 4592 tasks      | elapsed: 16.7min\n",
      "[Parallel(n_jobs=-1)]: Done 5392 tasks      | elapsed: 19.9min\n"
     ]
    },
    {
     "name": "stdout",
     "output_type": "stream",
     "text": [
      "OrthoForest HTE: -828.7448367343603\n"
     ]
    },
    {
     "name": "stderr",
     "output_type": "stream",
     "text": [
      "[Parallel(n_jobs=-1)]: Done 5508 out of 5508 | elapsed: 20.4min finished\n"
     ]
    }
   ],
   "source": [
    "ortho_forest = DMLOrthoForest(\n",
    "    n_trees=100,                      # Number of trees\n",
    "    min_leaf_size=10,                 # Minimum samples required to be a leaf node\n",
    "    max_depth=5,                      # Maximum depth of each tree\n",
    "    model_T=RandomForestRegressor(),  # Treatment model\n",
    "    model_Y=RandomForestRegressor(),  # Outcome model\n",
    "    model_T_final=RandomForestRegressor(),\n",
    "    model_Y_final=RandomForestRegressor()\n",
    ")\n",
    "\n",
    "# Fit the model\n",
    "\n",
    "ortho_forest.fit(y_train, T_train, X=X_train)\n",
    "hte_ortho_forest = ortho_forest.const_marginal_ate(X_test)\n",
    "print(\"OrthoForest HTE:\", hte_ortho_forest)"
   ]
  }
 ],
 "metadata": {
  "kernelspec": {
   "display_name": "Python 3 (ipykernel)",
   "language": "python",
   "name": "python3"
  },
  "language_info": {
   "codemirror_mode": {
    "name": "ipython",
    "version": 3
   },
   "file_extension": ".py",
   "mimetype": "text/x-python",
   "name": "python",
   "nbconvert_exporter": "python",
   "pygments_lexer": "ipython3",
   "version": "3.9.16"
  }
 },
 "nbformat": 4,
 "nbformat_minor": 5
}
